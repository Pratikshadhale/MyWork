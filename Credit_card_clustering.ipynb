{
 "cells": [
  {
   "cell_type": "code",
   "execution_count": 2,
   "id": "5f81f76b-fedd-4bf8-b7cb-3d7e3e304ed1",
   "metadata": {},
   "outputs": [
    {
     "name": "stdout",
     "output_type": "stream",
     "text": [
      "  CUST_ID      BALANCE  BALANCE_FREQUENCY  PURCHASES  ONEOFF_PURCHASES  \\\n",
      "0  C10001    40.900749           0.818182      95.40              0.00   \n",
      "1  C10002  3202.467416           0.909091       0.00              0.00   \n",
      "2  C10003  2495.148862           1.000000     773.17            773.17   \n",
      "3  C10004  1666.670542           0.636364    1499.00           1499.00   \n",
      "4  C10005   817.714335           1.000000      16.00             16.00   \n",
      "\n",
      "   INSTALLMENTS_PURCHASES  CASH_ADVANCE  PURCHASES_FREQUENCY  \\\n",
      "0                    95.4      0.000000             0.166667   \n",
      "1                     0.0   6442.945483             0.000000   \n",
      "2                     0.0      0.000000             1.000000   \n",
      "3                     0.0    205.788017             0.083333   \n",
      "4                     0.0      0.000000             0.083333   \n",
      "\n",
      "   ONEOFF_PURCHASES_FREQUENCY  PURCHASES_INSTALLMENTS_FREQUENCY  \\\n",
      "0                    0.000000                          0.083333   \n",
      "1                    0.000000                          0.000000   \n",
      "2                    1.000000                          0.000000   \n",
      "3                    0.083333                          0.000000   \n",
      "4                    0.083333                          0.000000   \n",
      "\n",
      "   CASH_ADVANCE_FREQUENCY  CASH_ADVANCE_TRX  PURCHASES_TRX  CREDIT_LIMIT  \\\n",
      "0                0.000000                 0              2        1000.0   \n",
      "1                0.250000                 4              0        7000.0   \n",
      "2                0.000000                 0             12        7500.0   \n",
      "3                0.083333                 1              1        7500.0   \n",
      "4                0.000000                 0              1        1200.0   \n",
      "\n",
      "      PAYMENTS  MINIMUM_PAYMENTS  PRC_FULL_PAYMENT  TENURE  \n",
      "0   201.802084        139.509787          0.000000      12  \n",
      "1  4103.032597       1072.340217          0.222222      12  \n",
      "2   622.066742        627.284787          0.000000      12  \n",
      "3     0.000000               NaN          0.000000      12  \n",
      "4   678.334763        244.791237          0.000000      12  \n"
     ]
    }
   ],
   "source": [
    "import pandas as pd\n",
    "import numpy as np\n",
    "from sklearn import cluster\n",
    "data = pd.read_csv(r\"C:\\Users\\Lenovo\\Downloads\\ netflix\\Credit card data\\CC GENERAL.csv\")\n",
    "print(data.head())"
   ]
  },
  {
   "cell_type": "code",
   "execution_count": 3,
   "id": "d5945e54-06fb-4bfa-88dc-970f0a3c2ab4",
   "metadata": {},
   "outputs": [
    {
     "data": {
      "text/plain": [
       "CUST_ID                               0\n",
       "BALANCE                               0\n",
       "BALANCE_FREQUENCY                     0\n",
       "PURCHASES                             0\n",
       "ONEOFF_PURCHASES                      0\n",
       "INSTALLMENTS_PURCHASES                0\n",
       "CASH_ADVANCE                          0\n",
       "PURCHASES_FREQUENCY                   0\n",
       "ONEOFF_PURCHASES_FREQUENCY            0\n",
       "PURCHASES_INSTALLMENTS_FREQUENCY      0\n",
       "CASH_ADVANCE_FREQUENCY                0\n",
       "CASH_ADVANCE_TRX                      0\n",
       "PURCHASES_TRX                         0\n",
       "CREDIT_LIMIT                          1\n",
       "PAYMENTS                              0\n",
       "MINIMUM_PAYMENTS                    313\n",
       "PRC_FULL_PAYMENT                      0\n",
       "TENURE                                0\n",
       "dtype: int64"
      ]
     },
     "execution_count": 3,
     "metadata": {},
     "output_type": "execute_result"
    }
   ],
   "source": [
    "data.isnull().sum()"
   ]
  },
  {
   "cell_type": "code",
   "execution_count": 15,
   "id": "0072c453-906a-48e8-b09e-11792395d25c",
   "metadata": {},
   "outputs": [],
   "source": [
    "clustering_data = data[[\"BALANCE\", \"PURCHASES\", \"CREDIT_LIMIT\"]]\n",
    "from sklearn.preprocessing import MinMaxScaler\n",
    "for i in clustering_data.columns:\n",
    "    MinMaxScaler(i)\n",
    "\n"
   ]
  },
  {
   "cell_type": "code",
   "execution_count": 14,
   "id": "cd918904-4702-43e0-83bc-1ab6c21c64a3",
   "metadata": {},
   "outputs": [],
   "source": [
    "from sklearn.impute import SimpleImputer\n",
    "\n",
    "# Create an imputer object with a strategy to replace missing values with the mean\n",
    "imputer = SimpleImputer(strategy='mean')\n",
    "\n",
    "# Impute the missing values\n",
    "clustering_data_imputed = imputer.fit_transform(clustering_data)\n",
    "\n",
    "# Create the KMeans object\n",
    "kmeans = KMeans(n_clusters=5)\n",
    "\n",
    "# Fit the model and predict clusters\n",
    "clusters = kmeans.fit_predict(clustering_data_imputed)\n",
    "\n",
    "# Assign the clusters to the original data\n",
    "data[\"CREDIT_CARD_SEGMENTS\"] = clusters\n"
   ]
  },
  {
   "cell_type": "code",
   "execution_count": 17,
   "id": "b3361cc0-d825-410c-8da8-dce281f29508",
   "metadata": {},
   "outputs": [
    {
     "name": "stdout",
     "output_type": "stream",
     "text": [
      "0    Cluster 2\n",
      "1    Cluster 5\n",
      "2    Cluster 5\n",
      "3    Cluster 5\n",
      "4    Cluster 2\n",
      "5    Cluster 2\n",
      "6    Cluster 4\n",
      "7    Cluster 2\n",
      "8    Cluster 5\n",
      "9    Cluster 4\n",
      "Name: CREDIT_CARD_SEGMENTS, dtype: object\n"
     ]
    }
   ],
   "source": [
    "data[\"CREDIT_CARD_SEGMENTS\"] = data[\"CREDIT_CARD_SEGMENTS\"].map({0: \"Cluster 1\", 1:\n",
    "                                                                 \"Cluster 2\", 2: \"Cluster 3\", 3:\"Cluster 4\", 4: \"Cluster 5\"})\n",
    "\n",
    "print(data[\"CREDIT_CARD_SEGMENTS\"].head(10))"
   ]
  },
  {
   "cell_type": "code",
   "execution_count": 22,
   "id": "102da22b-1b0b-41f5-ab4d-9b38c106d730",
   "metadata": {},
   "outputs": [],
   "source": [
    "import plotly.graph_objects as go\n",
    "PLOT = go.Figure()\n",
    "for i in list(data[\"CREDIT_CARD_SEGMENTS\"].unique()):\n",
    "\n",
    "    PLOT.add_trace(go.Scatter3d(x = data[data[\"CREDIT_CARD_SEGMENTS\"]==i]['BALANCE'],\n",
    "                                y = data[data[\"CREDIT_CARD_SEGMENTS\"]==i]['PURCHASES'],\n",
    "                                z = data[data[\"CREDIT_CARD_SEGMENTS\"]==i]['BALANCE'],\n",
    "                                mode = 'markers', marker_size = 6, marker_line_width = 1,\n",
    "                                name = str(i)))\n",
    "    PLOT.update_traces(hovertemplate='BALANCE:%{x} <br>PURCHASES %{y} <br>DCREDIT_LIMIT: %{z}')\n",
    "    PLOT.update_layout(width = 800, height = 800, autosize = True, showlegend = True,\n",
    "                       scene = dict(xaxis=dict(title = 'BALANCE', titlefont_color='black'),\n",
    "                                    yaxis=dict(title = 'PURCHASES', titlefont_color='black'),\n",
    "                                    zaxis=dict(title = 'CREDIT_LIMIT', titlefont_color='black')),\n",
    "                        font = dict(family = \"Gilroy\", color = 'black', size = 12))"
   ]
  },
  {
   "cell_type": "code",
   "execution_count": null,
   "id": "0a7e9f6e-6979-43e2-b478-72b3166239a2",
   "metadata": {},
   "outputs": [],
   "source": []
  }
 ],
 "metadata": {
  "kernelspec": {
   "display_name": "Python 3 (ipykernel)",
   "language": "python",
   "name": "python3"
  },
  "language_info": {
   "codemirror_mode": {
    "name": "ipython",
    "version": 3
   },
   "file_extension": ".py",
   "mimetype": "text/x-python",
   "name": "python",
   "nbconvert_exporter": "python",
   "pygments_lexer": "ipython3",
   "version": "3.12.2"
  }
 },
 "nbformat": 4,
 "nbformat_minor": 5
}
